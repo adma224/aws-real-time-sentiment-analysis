{
 "cells": [
  {
   "cell_type": "markdown",
   "id": "8ed966ba",
   "metadata": {},
   "source": [
    "# Data Cleansing and Feature Extraction"
   ]
  },
  {
   "cell_type": "code",
   "execution_count": 1,
   "id": "c7c0f4f7",
   "metadata": {},
   "outputs": [],
   "source": [
    "import pandas as pd\n",
    "import numpy as np\n",
    "import matplotlib.pyplot as plt\n",
    "import math"
   ]
  },
  {
   "cell_type": "code",
   "execution_count": 2,
   "id": "05df2507",
   "metadata": {},
   "outputs": [
    {
     "name": "stdout",
     "output_type": "stream",
     "text": [
      "Exception reporting mode: Minimal\n"
     ]
    }
   ],
   "source": [
    "%xmode Minimal"
   ]
  },
  {
   "cell_type": "code",
   "execution_count": 23,
   "id": "2c1e4d23",
   "metadata": {
    "scrolled": true
   },
   "outputs": [
    {
     "data": {
      "text/html": [
       "<div>\n",
       "<style scoped>\n",
       "    .dataframe tbody tr th:only-of-type {\n",
       "        vertical-align: middle;\n",
       "    }\n",
       "\n",
       "    .dataframe tbody tr th {\n",
       "        vertical-align: top;\n",
       "    }\n",
       "\n",
       "    .dataframe thead th {\n",
       "        text-align: right;\n",
       "    }\n",
       "</style>\n",
       "<table border=\"1\" class=\"dataframe\">\n",
       "  <thead>\n",
       "    <tr style=\"text-align: right;\">\n",
       "      <th></th>\n",
       "      <th>target</th>\n",
       "      <th>ids</th>\n",
       "      <th>date</th>\n",
       "      <th>flag</th>\n",
       "      <th>user</th>\n",
       "      <th>text</th>\n",
       "    </tr>\n",
       "  </thead>\n",
       "  <tbody>\n",
       "    <tr>\n",
       "      <th>0</th>\n",
       "      <td>0</td>\n",
       "      <td>1467810369</td>\n",
       "      <td>Mon Apr 06 22:19:45 PDT 2009</td>\n",
       "      <td>NO_QUERY</td>\n",
       "      <td>_TheSpecialOne_</td>\n",
       "      <td>@switchfoot http://twitpic.com/2y1zl - Awww, t...</td>\n",
       "    </tr>\n",
       "    <tr>\n",
       "      <th>1</th>\n",
       "      <td>0</td>\n",
       "      <td>1467810672</td>\n",
       "      <td>Mon Apr 06 22:19:49 PDT 2009</td>\n",
       "      <td>NO_QUERY</td>\n",
       "      <td>scotthamilton</td>\n",
       "      <td>is upset that he can't update his Facebook by ...</td>\n",
       "    </tr>\n",
       "    <tr>\n",
       "      <th>2</th>\n",
       "      <td>0</td>\n",
       "      <td>1467810917</td>\n",
       "      <td>Mon Apr 06 22:19:53 PDT 2009</td>\n",
       "      <td>NO_QUERY</td>\n",
       "      <td>mattycus</td>\n",
       "      <td>@Kenichan I dived many times for the ball. Man...</td>\n",
       "    </tr>\n",
       "    <tr>\n",
       "      <th>3</th>\n",
       "      <td>0</td>\n",
       "      <td>1467811184</td>\n",
       "      <td>Mon Apr 06 22:19:57 PDT 2009</td>\n",
       "      <td>NO_QUERY</td>\n",
       "      <td>ElleCTF</td>\n",
       "      <td>my whole body feels itchy and like its on fire</td>\n",
       "    </tr>\n",
       "    <tr>\n",
       "      <th>4</th>\n",
       "      <td>0</td>\n",
       "      <td>1467811193</td>\n",
       "      <td>Mon Apr 06 22:19:57 PDT 2009</td>\n",
       "      <td>NO_QUERY</td>\n",
       "      <td>Karoli</td>\n",
       "      <td>@nationwideclass no, it's not behaving at all....</td>\n",
       "    </tr>\n",
       "    <tr>\n",
       "      <th>...</th>\n",
       "      <td>...</td>\n",
       "      <td>...</td>\n",
       "      <td>...</td>\n",
       "      <td>...</td>\n",
       "      <td>...</td>\n",
       "      <td>...</td>\n",
       "    </tr>\n",
       "    <tr>\n",
       "      <th>1599995</th>\n",
       "      <td>1</td>\n",
       "      <td>2193601966</td>\n",
       "      <td>Tue Jun 16 08:40:49 PDT 2009</td>\n",
       "      <td>NO_QUERY</td>\n",
       "      <td>AmandaMarie1028</td>\n",
       "      <td>Just woke up. Having no school is the best fee...</td>\n",
       "    </tr>\n",
       "    <tr>\n",
       "      <th>1599996</th>\n",
       "      <td>1</td>\n",
       "      <td>2193601969</td>\n",
       "      <td>Tue Jun 16 08:40:49 PDT 2009</td>\n",
       "      <td>NO_QUERY</td>\n",
       "      <td>TheWDBoards</td>\n",
       "      <td>TheWDB.com - Very cool to hear old Walt interv...</td>\n",
       "    </tr>\n",
       "    <tr>\n",
       "      <th>1599997</th>\n",
       "      <td>1</td>\n",
       "      <td>2193601991</td>\n",
       "      <td>Tue Jun 16 08:40:49 PDT 2009</td>\n",
       "      <td>NO_QUERY</td>\n",
       "      <td>bpbabe</td>\n",
       "      <td>Are you ready for your MoJo Makeover? Ask me f...</td>\n",
       "    </tr>\n",
       "    <tr>\n",
       "      <th>1599998</th>\n",
       "      <td>1</td>\n",
       "      <td>2193602064</td>\n",
       "      <td>Tue Jun 16 08:40:49 PDT 2009</td>\n",
       "      <td>NO_QUERY</td>\n",
       "      <td>tinydiamondz</td>\n",
       "      <td>Happy 38th Birthday to my boo of alll time!!! ...</td>\n",
       "    </tr>\n",
       "    <tr>\n",
       "      <th>1599999</th>\n",
       "      <td>1</td>\n",
       "      <td>2193602129</td>\n",
       "      <td>Tue Jun 16 08:40:50 PDT 2009</td>\n",
       "      <td>NO_QUERY</td>\n",
       "      <td>RyanTrevMorris</td>\n",
       "      <td>happy #charitytuesday @theNSPCC @SparksCharity...</td>\n",
       "    </tr>\n",
       "  </tbody>\n",
       "</table>\n",
       "<p>1600000 rows × 6 columns</p>\n",
       "</div>"
      ],
      "text/plain": [
       "         target         ids                          date      flag  \\\n",
       "0             0  1467810369  Mon Apr 06 22:19:45 PDT 2009  NO_QUERY   \n",
       "1             0  1467810672  Mon Apr 06 22:19:49 PDT 2009  NO_QUERY   \n",
       "2             0  1467810917  Mon Apr 06 22:19:53 PDT 2009  NO_QUERY   \n",
       "3             0  1467811184  Mon Apr 06 22:19:57 PDT 2009  NO_QUERY   \n",
       "4             0  1467811193  Mon Apr 06 22:19:57 PDT 2009  NO_QUERY   \n",
       "...         ...         ...                           ...       ...   \n",
       "1599995       1  2193601966  Tue Jun 16 08:40:49 PDT 2009  NO_QUERY   \n",
       "1599996       1  2193601969  Tue Jun 16 08:40:49 PDT 2009  NO_QUERY   \n",
       "1599997       1  2193601991  Tue Jun 16 08:40:49 PDT 2009  NO_QUERY   \n",
       "1599998       1  2193602064  Tue Jun 16 08:40:49 PDT 2009  NO_QUERY   \n",
       "1599999       1  2193602129  Tue Jun 16 08:40:50 PDT 2009  NO_QUERY   \n",
       "\n",
       "                    user                                               text  \n",
       "0        _TheSpecialOne_  @switchfoot http://twitpic.com/2y1zl - Awww, t...  \n",
       "1          scotthamilton  is upset that he can't update his Facebook by ...  \n",
       "2               mattycus  @Kenichan I dived many times for the ball. Man...  \n",
       "3                ElleCTF    my whole body feels itchy and like its on fire   \n",
       "4                 Karoli  @nationwideclass no, it's not behaving at all....  \n",
       "...                  ...                                                ...  \n",
       "1599995  AmandaMarie1028  Just woke up. Having no school is the best fee...  \n",
       "1599996      TheWDBoards  TheWDB.com - Very cool to hear old Walt interv...  \n",
       "1599997           bpbabe  Are you ready for your MoJo Makeover? Ask me f...  \n",
       "1599998     tinydiamondz  Happy 38th Birthday to my boo of alll time!!! ...  \n",
       "1599999   RyanTrevMorris  happy #charitytuesday @theNSPCC @SparksCharity...  \n",
       "\n",
       "[1600000 rows x 6 columns]"
      ]
     },
     "execution_count": 23,
     "metadata": {},
     "output_type": "execute_result"
    }
   ],
   "source": [
    "DATASET_COLUMNS = ['target','ids','date','flag','user','text']\n",
    "DATASET_ENCODING = \"ISO-8859-1\"\n",
    "df = pd.read_csv('tweets.csv', encoding=DATASET_ENCODING, names=DATASET_COLUMNS)\n",
    "df['target'] = (df['target'] == 4).astype(int)\n",
    "df"
   ]
  },
  {
   "cell_type": "markdown",
   "id": "303cfdd1",
   "metadata": {},
   "source": [
    "## Initial Data Exploration"
   ]
  },
  {
   "cell_type": "code",
   "execution_count": 24,
   "id": "c5e03b56",
   "metadata": {},
   "outputs": [
    {
     "name": "stdout",
     "output_type": "stream",
     "text": [
      "<class 'pandas.core.frame.DataFrame'>\n",
      "RangeIndex: 1600000 entries, 0 to 1599999\n",
      "Data columns (total 6 columns):\n",
      " #   Column  Non-Null Count    Dtype \n",
      "---  ------  --------------    ----- \n",
      " 0   target  1600000 non-null  int64 \n",
      " 1   ids     1600000 non-null  int64 \n",
      " 2   date    1600000 non-null  object\n",
      " 3   flag    1600000 non-null  object\n",
      " 4   user    1600000 non-null  object\n",
      " 5   text    1600000 non-null  object\n",
      "dtypes: int64(2), object(4)\n",
      "memory usage: 73.2+ MB\n"
     ]
    }
   ],
   "source": [
    "df.info()"
   ]
  },
  {
   "cell_type": "markdown",
   "id": "40525b36",
   "metadata": {},
   "source": [
    "### Class balance - Too good to be true..."
   ]
  },
  {
   "cell_type": "code",
   "execution_count": 25,
   "id": "abd68c7d",
   "metadata": {},
   "outputs": [
    {
     "data": {
      "text/plain": [
       "target\n",
       "0    800000\n",
       "1    800000\n",
       "Name: count, dtype: int64"
      ]
     },
     "execution_count": 25,
     "metadata": {},
     "output_type": "execute_result"
    }
   ],
   "source": [
    "df_counts = df['target'].value_counts()\n",
    "df_counts"
   ]
  },
  {
   "cell_type": "code",
   "execution_count": 26,
   "id": "f0bd039f",
   "metadata": {},
   "outputs": [
    {
     "data": {
      "image/png": "[encoded data removed]",
      "text/plain": [
       "<Figure size 600x400 with 2 Axes>"
      ]
     },
     "metadata": {},
     "output_type": "display_data"
    }
   ],
   "source": [
    "def ceil_thousand(num):\n",
    "    ceil = math.ceil((num - 1000) / 1000) * 1000\n",
    "    return ceil\n",
    "\n",
    "def simple_bar(counts, ax):\n",
    "    bars = ax.bar(counts.index.astype(str), counts.values, color=['#F5914E', '#F5C34E'])\n",
    "    for bar in bars:\n",
    "        height = bar.get_height()\n",
    "        ax.annotate('{}'.format(height),\n",
    "                    xy=(bar.get_x() + bar.get_width() / 2, height),\n",
    "                    xytext=(0, 3),  # 3 points vertical offset\n",
    "                    textcoords=\"offset points\",\n",
    "                    ha='center', va='bottom')\n",
    "    ax.margins(0.05, 0.1)\n",
    "    ax.set_title('Class Balance')\n",
    "    ax.set_xlabel('Class')\n",
    "    ax.set_ylabel('Count')\n",
    "    ax.grid(axis='y', linestyle='--', alpha=0.7, color='deepskyblue')\n",
    "\n",
    "def simple_pie(counts, ax):\n",
    "    ax.pie(counts, labels=counts.index, colors = ['#F5724E', '#F5AD4E'],\n",
    "           autopct=lambda p: '{:.0f}\\n({:.2f}%)'.format(p * sum(counts) / 100, p))\n",
    "    ax.axis('equal')\n",
    "    ax.set_title('Class Distribution')\n",
    "\n",
    "fig, axs = plt.subplots(1, 2, figsize=(6, 4))\n",
    "\n",
    "simple_bar(df_counts, axs[0])\n",
    "simple_pie(df_counts, axs[1])\n",
    "\n",
    "plt.tight_layout()\n",
    "plt.show()\n",
    "\n"
   ]
  },
  {
   "cell_type": "code",
   "execution_count": 13,
   "id": "6c3690d5",
   "metadata": {},
   "outputs": [],
   "source": [
    "sample_size = 500000\n",
    "data = df[['text', 'target']].sample(n=sample_size, random_state=43).reset_index(drop=True)\n"
   ]
  },
  {
   "cell_type": "code",
   "execution_count": 14,
   "id": "eee15fe2",
   "metadata": {},
   "outputs": [
    {
     "name": "stdout",
     "output_type": "stream",
     "text": [
      "target\n",
      "0    250132\n",
      "1    249868\n",
      "Name: count, dtype: int64\n"
     ]
    },
    {
     "data": {
      "text/html": [
       "<div>\n",
       "<style scoped>\n",
       "    .dataframe tbody tr th:only-of-type {\n",
       "        vertical-align: middle;\n",
       "    }\n",
       "\n",
       "    .dataframe tbody tr th {\n",
       "        vertical-align: top;\n",
       "    }\n",
       "\n",
       "    .dataframe thead th {\n",
       "        text-align: right;\n",
       "    }\n",
       "</style>\n",
       "<table border=\"1\" class=\"dataframe\">\n",
       "  <thead>\n",
       "    <tr style=\"text-align: right;\">\n",
       "      <th></th>\n",
       "      <th>text</th>\n",
       "      <th>target</th>\n",
       "    </tr>\n",
       "  </thead>\n",
       "  <tbody>\n",
       "    <tr>\n",
       "      <th>0</th>\n",
       "      <td>@speakforme I know. We should go asap. like wh...</td>\n",
       "      <td>0</td>\n",
       "    </tr>\n",
       "    <tr>\n",
       "      <th>1</th>\n",
       "      <td>@pcdmelodyt hi melody  @AshleyLTMSYF hi ashley...</td>\n",
       "      <td>1</td>\n",
       "    </tr>\n",
       "    <tr>\n",
       "      <th>2</th>\n",
       "      <td>Mount Larcom (finally</td>\n",
       "      <td>1</td>\n",
       "    </tr>\n",
       "    <tr>\n",
       "      <th>3</th>\n",
       "      <td>@Lisa_Nova we had it but we lost it  very sad ...</td>\n",
       "      <td>0</td>\n",
       "    </tr>\n",
       "    <tr>\n",
       "      <th>4</th>\n",
       "      <td>@kneath I hate you so much right now</td>\n",
       "      <td>1</td>\n",
       "    </tr>\n",
       "    <tr>\n",
       "      <th>...</th>\n",
       "      <td>...</td>\n",
       "      <td>...</td>\n",
       "    </tr>\n",
       "    <tr>\n",
       "      <th>499995</th>\n",
       "      <td>I hate having weak jaws!  http://bit.ly/fuE6t</td>\n",
       "      <td>0</td>\n",
       "    </tr>\n",
       "    <tr>\n",
       "      <th>499996</th>\n",
       "      <td>Yay at new phone apps for twitter</td>\n",
       "      <td>1</td>\n",
       "    </tr>\n",
       "    <tr>\n",
       "      <th>499997</th>\n",
       "      <td>@rustyrockets &amp;quot;some say he had phone sex ...</td>\n",
       "      <td>1</td>\n",
       "    </tr>\n",
       "    <tr>\n",
       "      <th>499998</th>\n",
       "      <td>I jumped the gun and ate my yogurt too soon, n...</td>\n",
       "      <td>0</td>\n",
       "    </tr>\n",
       "    <tr>\n",
       "      <th>499999</th>\n",
       "      <td>This Ginger ale burns my throat &amp;amp; tickles ...</td>\n",
       "      <td>1</td>\n",
       "    </tr>\n",
       "  </tbody>\n",
       "</table>\n",
       "<p>500000 rows × 2 columns</p>\n",
       "</div>"
      ],
      "text/plain": [
       "                                                     text  target\n",
       "0       @speakforme I know. We should go asap. like wh...       0\n",
       "1       @pcdmelodyt hi melody  @AshleyLTMSYF hi ashley...       1\n",
       "2                                  Mount Larcom (finally        1\n",
       "3       @Lisa_Nova we had it but we lost it  very sad ...       0\n",
       "4                   @kneath I hate you so much right now        1\n",
       "...                                                   ...     ...\n",
       "499995      I hate having weak jaws!  http://bit.ly/fuE6t       0\n",
       "499996                 Yay at new phone apps for twitter        1\n",
       "499997  @rustyrockets &quot;some say he had phone sex ...       1\n",
       "499998  I jumped the gun and ate my yogurt too soon, n...       0\n",
       "499999  This Ginger ale burns my throat &amp; tickles ...       1\n",
       "\n",
       "[500000 rows x 2 columns]"
      ]
     },
     "execution_count": 14,
     "metadata": {},
     "output_type": "execute_result"
    }
   ],
   "source": [
    "data_counts = data['target'].value_counts()\n",
    "print(data_counts)\n",
    "data"
   ]
  },
  {
   "cell_type": "code",
   "execution_count": 17,
   "id": "cf93b846",
   "metadata": {},
   "outputs": [],
   "source": [
    "def bar_difference(counts, ax):\n",
    "    bars = ax.bar(counts.index.astype(str), counts.values, color=['#F5D64E', '#F5D09F'])\n",
    "    \n",
    "    n = min(counts.values[0], counts.values[1])\n",
    "    m = max(counts.values[0], counts.values[1])\n",
    "    diff = m-n\n",
    "    # Adjust the ylim to include some space above the max value to show the difference\n",
    "    ax.set_ylim(top=(m + diff / 4), bottom=(n - diff / 4))\n",
    "\n",
    "    for bar in bars:\n",
    "        height = bar.get_height()\n",
    "        ax.annotate(f'{height}', xy=(bar.get_x() + bar.get_width() / 2, height),\n",
    "                    xytext=(0, 3), textcoords=\"offset points\", ha='center', va='bottom')\n",
    "    diff_annotation = f'Difference: {diff}'\n",
    "    ax.text(0.5, m + diff / 8, diff_annotation, ha='center', va='bottom', fontsize=9, color='red')\n",
    "\n",
    "\n",
    "    ax.set_title(f\"Balance Comparison (y starting at {ceil_thousand(n)})\")\n",
    "    ax.set_ylabel('Count')\n",
    "    ax.set_xlabel('Class')\n",
    "\n",
    "    ax.axhline(y=min(n, m), color='red', linewidth=1.5, linestyle='--')\n",
    "\n",
    "    "
   ]
  },
  {
   "cell_type": "code",
   "execution_count": 64,
   "id": "3b83352f",
   "metadata": {},
   "outputs": [
    {
     "ename": "ValueError",
     "evalue": "The number of FixedLocator locations (2), usually from a call to set_ticks, does not match the number of labels (4).",
     "output_type": "error",
     "traceback": [
      "\u001b[0;31mValueError\u001b[0m\u001b[0;31m:\u001b[0m The number of FixedLocator locations (2), usually from a call to set_ticks, does not match the number of labels (4).\n"
     ]
    },
    {
     "data": {
      "image/png": "[encoded data removed]",
      "text/plain": [
       "<Figure size 640x480 with 1 Axes>"
      ]
     },
     "metadata": {},
     "output_type": "display_data"
    }
   ],
   "source": [
    "import pandas as pd\n",
    "import numpy as np\n",
    "import matplotlib.pyplot as plt\n",
    "import matplotlib.patches as mpatches\n",
    "\n",
    "def simple_bar(original_counts, new_counts):\n",
    "    # Setup the figure and axes\n",
    "    fig, ax = plt.subplots()\n",
    "\n",
    "    # Set the width of the bars\n",
    "    bar_width = 0.35\n",
    "\n",
    "    # Calculate the positions for the original and new bars\n",
    "    indices = np.arange(len(original_counts))\n",
    "    original_positions = indices * 2 * bar_width\n",
    "    new_positions = original_positions + bar_width\n",
    "\n",
    "    # Plot bars for original and new counts\n",
    "    original_bars = ax.bar(original_positions, original_counts.values, bar_width, label='Original', color=['#F5914E', '#A5D6A7'])\n",
    "    new_bars = ax.bar(new_positions, new_counts.values, bar_width, label='Reduced', color=['#F5C34E', '#81C784'])\n",
    "\n",
    "    # Set the x-ticks and x-tick labels\n",
    "    ax.set_xticks(new_positions - bar_width / 2)\n",
    "    ax.set_xticklabels(['Class 0', 'Class 1'] * len(original_counts))\n",
    "\n",
    "    # Annotate bars with height labels\n",
    "    for bars in [original_bars, new_bars]:\n",
    "        for bar in bars:\n",
    "            height = bar.get_height()\n",
    "            ax.annotate('{}'.format(height),\n",
    "                        xy=(bar.get_x() + bar.get_width() / 2, height),\n",
    "                        xytext=(0, 3),  # 3 points vertical offset\n",
    "                        textcoords=\"offset points\",\n",
    "                        ha='center', va='bottom')\n",
    "\n",
    "    # Create custom legend\n",
    "    legend_handles = [mpatches.Patch(color='#F5914E', label='Original Class 0'),\n",
    "                      mpatches.Patch(color='#A5D6A7', label='Original Class 1'),\n",
    "                      mpatches.Patch(color='#F5C34E', label='Reduced Class 0'),\n",
    "                      mpatches.Patch(color='#81C784', label='Reduced Class 1')]\n",
    "    ax.legend(handles=legend_handles, loc='upper center', bbox_to_anchor=(0.5, -0.15), ncol=4)\n",
    "\n",
    "    # Set chart title and labels\n",
    "    ax.set_title('Class Balance Before and After Reduction')\n",
    "    ax.set_ylabel('Counts')\n",
    "    ax.set_xlabel('Class')\n",
    "\n",
    "    plt.tight_layout()\n",
    "    plt.show()\n",
    "\n",
    "# Example data\n",
    "original_counts = pd.Series([5000, 4500], index=['Class 0', 'Class 1'])\n",
    "new_counts = pd.Series([4900, 4400], index=['Class 0', 'Class 1'])\n",
    "\n",
    "simple_bar(original_counts, new_counts)\n"
   ]
  },
  {
   "cell_type": "code",
   "execution_count": 60,
   "id": "0c89017d",
   "metadata": {},
   "outputs": [],
   "source": [
    "def compare_bar(original_counts, new_counts, ax):\n",
    "    # Indices for the groups\n",
    "    index = np.arange(2)\n",
    "    bar_width = 0.2\n",
    "\n",
    "    original_bar = ax.bar(index, original_counts.values, bar_width, label='Original', color=['#F5914E', '#A5D6A7'])\n",
    "    new_bar = ax.bar(index + bar_width, new_counts.values, bar_width, label='Reduced', color=['#F5C34E', '#81C784'])\n",
    "\n",
    "    ax.set_xlabel('Class')\n",
    "    ax.set_ylabel('Counts')\n",
    "    ax.set_title('Class Balance Before and After Reduction')\n",
    "    ax.set_xticks(index + bar_width / 2)\n",
    "    ax.set_xticklabels(['Class 0', 'Class 1'])\n",
    "\n",
    "    # Annotate bars with height labels\n",
    "    for bars in (original_bar, new_bar):\n",
    "        for bar in bars:\n",
    "            height = bar.get_height()\n",
    "            ax.annotate('{}'.format(height),\n",
    "                        xy=(bar.get_x() + bar.get_width() / 2, height),\n",
    "                        xytext=(0, 3),  # 3 points vertical offset\n",
    "                        textcoords=\"offset points\",\n",
    "                        ha='center', va='bottom')\n",
    "    \n",
    "    # Create custom legend\n",
    "    legend_handles = [mpatches.Patch(color='#F5914E', label='Original Class 0'),\n",
    "                      mpatches.Patch(color='#F5C34E', label='Reduced Class 0'),\n",
    "                      mpatches.Patch(color='#A5D6A7', label='Original Class 1'),\n",
    "                      mpatches.Patch(color='#81C784', label='Reduced Class 1')]\n",
    "\n",
    "    # Place the legend at the bottom\n",
    "    ax.legend(handles=legend_handles, loc='upper center', bbox_to_anchor=(0.5, -0.15), ncol=2)\n",
    "    ax.margins(0.05, 0.1)\n",
    "    plt.tight_layout()\n",
    "    plt.show()"
   ]
  },
  {
   "cell_type": "code",
   "execution_count": 63,
   "id": "d445f4cd",
   "metadata": {},
   "outputs": [
    {
     "data": {
      "image/png": "[encoded data removed]",
      "text/plain": [
       "<Figure size 1200x400 with 3 Axes>"
      ]
     },
     "metadata": {},
     "output_type": "display_data"
    },
    {
     "data": {
      "text/plain": [
       "<Figure size 640x480 with 0 Axes>"
      ]
     },
     "metadata": {},
     "output_type": "display_data"
    }
   ],
   "source": [
    "fig, axs = plt.subplots(1, 3, figsize=(12, 4))\n",
    "\n",
    "compare_bar(df_counts,data_counts, axs[0])\n",
    "bar_difference(data_counts, axs[1])\n",
    "simple_pie( data_counts, axs[2])\n",
    "\n",
    "plt.tight_layout()\n",
    "plt.show()"
   ]
  },
  {
   "cell_type": "markdown",
   "id": "b853ca02",
   "metadata": {},
   "source": [
    "In many real-world applications, datasets are inherently imbalanced, meaning that the classes of interest are not equally represented. For instance, in fraud detection, fraudulent transactions are typically much less frequent than legitimate ones. Similarly, in medical diagnosis, instances of a particular disease may be rare compared to the healthy population. This imbalance poses a challenge for machine learning models, as they may become biased towards the majority class, resulting in poor performance on the minority class, which is often of greater interest.\n",
    "\n",
    "To address these challenges and develop solutions that are robust in the face of class imbalance, it is crucial for data scientists and machine learning practitioners to understand how models perform under such conditions. By intentionally introducing class imbalance into our project's dataset, we aim to simulate real-world conditions more closely. This allows us to explore and evaluate strategies for handling imbalanced data, such as resampling techniques, cost-sensitive learning, or the use of specific evaluation metrics that are more informative for imbalanced datasets.\n",
    "\n",
    "This approach not only enhances the realism of our project but also prepares us to tackle similar challenges in real-world applications. It underscores the importance of careful preprocessing, model selection, and evaluation strategies that account for class imbalance. Through this process, we seek to contribute insights and methodologies that are directly applicable to practical problems, ultimately leading to more effective and equitable machine learning solutions."
   ]
  },
  {
   "cell_type": "code",
   "execution_count": 20,
   "id": "0aa53d5a",
   "metadata": {},
   "outputs": [
    {
     "name": "stdout",
     "output_type": "stream",
     "text": [
      "Number of entries to keep from Class 0: 246958\n",
      "Number of entries to keep from Class 1: 140795\n",
      "Original data size: 500000, Reduced data size: 387753\n"
     ]
    },
    {
     "data": {
      "text/html": [
       "<div>\n",
       "<style scoped>\n",
       "    .dataframe tbody tr th:only-of-type {\n",
       "        vertical-align: middle;\n",
       "    }\n",
       "\n",
       "    .dataframe tbody tr th {\n",
       "        vertical-align: top;\n",
       "    }\n",
       "\n",
       "    .dataframe thead th {\n",
       "        text-align: right;\n",
       "    }\n",
       "</style>\n",
       "<table border=\"1\" class=\"dataframe\">\n",
       "  <thead>\n",
       "    <tr style=\"text-align: right;\">\n",
       "      <th></th>\n",
       "      <th>text</th>\n",
       "      <th>target</th>\n",
       "    </tr>\n",
       "  </thead>\n",
       "  <tbody>\n",
       "    <tr>\n",
       "      <th>0</th>\n",
       "      <td>yesterday was such a nice day...why does it ne...</td>\n",
       "      <td>1</td>\n",
       "    </tr>\n",
       "    <tr>\n",
       "      <th>1</th>\n",
       "      <td>Listening to @supertodda iTunes library... Pin...</td>\n",
       "      <td>1</td>\n",
       "    </tr>\n",
       "    <tr>\n",
       "      <th>2</th>\n",
       "      <td>Im going to bed I hope I get a call in the mor...</td>\n",
       "      <td>1</td>\n",
       "    </tr>\n",
       "    <tr>\n",
       "      <th>3</th>\n",
       "      <td>@taiforever done geo finally. now i have a han...</td>\n",
       "      <td>1</td>\n",
       "    </tr>\n",
       "    <tr>\n",
       "      <th>4</th>\n",
       "      <td>@misslazarou @LiaWhiting sai uma dose de sardi...</td>\n",
       "      <td>1</td>\n",
       "    </tr>\n",
       "    <tr>\n",
       "      <th>...</th>\n",
       "      <td>...</td>\n",
       "      <td>...</td>\n",
       "    </tr>\n",
       "    <tr>\n",
       "      <th>387748</th>\n",
       "      <td>is having issues breathing this morning! It hu...</td>\n",
       "      <td>0</td>\n",
       "    </tr>\n",
       "    <tr>\n",
       "      <th>387749</th>\n",
       "      <td>would kill for a lie in</td>\n",
       "      <td>0</td>\n",
       "    </tr>\n",
       "    <tr>\n",
       "      <th>387750</th>\n",
       "      <td>A few more hrs with the visitin fam</td>\n",
       "      <td>0</td>\n",
       "    </tr>\n",
       "    <tr>\n",
       "      <th>387751</th>\n",
       "      <td>@phoenixpwns That's true but still</td>\n",
       "      <td>0</td>\n",
       "    </tr>\n",
       "    <tr>\n",
       "      <th>387752</th>\n",
       "      <td>My twitterfon isnt working properly  goodnight...</td>\n",
       "      <td>0</td>\n",
       "    </tr>\n",
       "  </tbody>\n",
       "</table>\n",
       "<p>387753 rows × 2 columns</p>\n",
       "</div>"
      ],
      "text/plain": [
       "                                                     text  target\n",
       "0       yesterday was such a nice day...why does it ne...       1\n",
       "1       Listening to @supertodda iTunes library... Pin...       1\n",
       "2       Im going to bed I hope I get a call in the mor...       1\n",
       "3       @taiforever done geo finally. now i have a han...       1\n",
       "4       @misslazarou @LiaWhiting sai uma dose de sardi...       1\n",
       "...                                                   ...     ...\n",
       "387748  is having issues breathing this morning! It hu...       0\n",
       "387749                           would kill for a lie in        0\n",
       "387750               A few more hrs with the visitin fam        0\n",
       "387751                @phoenixpwns That's true but still        0\n",
       "387752  My twitterfon isnt working properly  goodnight...       0\n",
       "\n",
       "[387753 rows x 2 columns]"
      ]
     },
     "execution_count": 20,
     "metadata": {},
     "output_type": "execute_result"
    }
   ],
   "source": [
    "import pandas as pd\n",
    "import numpy as np\n",
    "\n",
    "# Set the seed for random number generation\n",
    "np.random.seed(42)\n",
    "\n",
    "# Define the ranges for x and y\n",
    "n = data['target'].value_counts()[0]  # Upper limit for class 0\n",
    "m = data['target'].value_counts()[1]  # Upper limit for class 1\n",
    "\n",
    "# Generate random numbers x and y\n",
    "x = np.random.randint(sample_size/4, n + 1)\n",
    "y = np.random.randint(sample_size/4, m + 1)\n",
    "\n",
    "print(f\"Number of entries to keep from Class 0: {x}\")\n",
    "print(f\"Number of entries to keep from Class 1: {y}\")\n",
    "\n",
    "reduced_data_class_1 = data[data['target']==0].sample(n=x, random_state=43)\n",
    "reduced_data_class_0 = data[data['target']==1].sample(n=y, random_state=43)\n",
    "\n",
    "reduced_data = pd.concat([reduced_data_class_0, reduced_data_class_1], ignore_index=True)\n",
    "\n",
    "print(f\"Original data size: {len(data)}, Reduced data size: {len(reduced_data)}\")\n",
    "reduced_data"
   ]
  },
  {
   "cell_type": "code",
   "execution_count": 21,
   "id": "628a4288",
   "metadata": {},
   "outputs": [
    {
     "data": {
      "text/plain": [
       "target\n",
       "0    246958\n",
       "1    140795\n",
       "Name: count, dtype: int64"
      ]
     },
     "execution_count": 21,
     "metadata": {},
     "output_type": "execute_result"
    }
   ],
   "source": [
    "reduced_data_counts = reduced_data['target'].value_counts()\n",
    "reduced_data_counts"
   ]
  },
  {
   "cell_type": "code",
   "execution_count": null,
   "id": "87566b51",
   "metadata": {},
   "outputs": [],
   "source": [
    "fig, axs = plt.subplots(1, 3, figsize=(12, 4))\n",
    "\n",
    "simple_bar(reduced_data_counts, axs[0])\n",
    "simple_pie(reduced_data_counts, axs[2])\n",
    "bar_difference(reduced_data_counts, axs[1])\n",
    "\n",
    "plt.tight_layout()\n",
    "plt.show()"
   ]
  },
  {
   "cell_type": "markdown",
   "id": "7eaa24eb",
   "metadata": {},
   "source": [
    "## Data Pre-processing"
   ]
  },
  {
   "cell_type": "code",
   "execution_count": null,
   "id": "e1a9bf04",
   "metadata": {},
   "outputs": [],
   "source": [
    "import re, string, contractions\n",
    "import nltk\n",
    "from nltk.tokenize import word_tokenize\n",
    "from nltk.corpus import stopwords\n",
    "from nltk.tag import pos_tag\n",
    "from nltk.stem.wordnet import WordNetLemmatizer\n",
    "from nltk.tokenize import TweetTokenizer\n",
    "import re\n",
    "import  string\n",
    "\n",
    "# nltk.download('averaged_perceptron_tagger')\n",
    "# nltk.download('wordnet')\n",
    "# nltk.download('stopwords')\n",
    "# nltk.download('punkt')"
   ]
  },
  {
   "cell_type": "markdown",
   "id": "c691ca89",
   "metadata": {},
   "source": [
    "### Noise removal and Tokenization"
   ]
  },
  {
   "cell_type": "code",
   "execution_count": null,
   "id": "18d976c4",
   "metadata": {},
   "outputs": [],
   "source": [
    "import pandas as pd\n",
    "from nltk.tokenize import TweetTokenizer\n",
    "import contractions\n",
    "import re\n",
    "\n",
    "tokenizer = TweetTokenizer(strip_handles=True, reduce_len=True)\n",
    "\n",
    "def preprocess_text(text):\n",
    "    # Step 1: Expand contractions\n",
    "    text = contractions.fix(text)\n",
    "    \n",
    "   # Step 2: Remove URLs starting with http or https\n",
    "    text = re.sub(r'http[s]?://[^\\s]+', '', text)\n",
    "    \n",
    "    # Step 3: Remove URLs with common top-level domains (TLDs)\n",
    "    text = re.sub(r'(?:www\\.)?[a-zA-Z0-9-]+\\.(com|org|net|edu|gov|io)[^\\s]*', '', text)\n",
    "    \n",
    "    # Step 4: Remove www. prefixes not covered by previous steps\n",
    "    text = re.sub(r'www\\.[a-zA-Z0-9-]+\\.[^\\s]+', '', text)\n",
    "    \n",
    "    # Step 5: Remove mentions\n",
    "    text = re.sub(r'@[A-Za-z0-9_]+', '', text)\n",
    "    \n",
    "    # Step 6: Remove all punctuation\n",
    "    text = re.sub(r'[^\\w\\s]', '', text)\n",
    "    \n",
    "    # Step 7: Remove non-ASCII characters\n",
    "    text = ''.join(i for i in text if ord(i) < 128)\n",
    "    \n",
    "    # Step 8: Tokenize\n",
    "    tokens = tokenizer.tokenize(text)\n",
    "    \n",
    "    return tokens\n",
    "\n",
    "# Apply the enhanced preprocessing function to each text entry in the DataFrame\n",
    "reduced_data['text'] = reduced_data['text'].apply(preprocess_text)"
   ]
  },
  {
   "cell_type": "code",
   "execution_count": null,
   "id": "0cfe940e",
   "metadata": {},
   "outputs": [],
   "source": [
    "print(reduced_data['text'][0])\n",
    "reduced_data"
   ]
  },
  {
   "cell_type": "markdown",
   "id": "55cde2ce",
   "metadata": {},
   "source": [
    "### Lemmatization and Case Lowering"
   ]
  },
  {
   "cell_type": "code",
   "execution_count": null,
   "id": "404e5be1",
   "metadata": {},
   "outputs": [],
   "source": [
    "lemmatizer = WordNetLemmatizer()\n",
    "\n",
    "def lemmatize_and_lower(tokens):\n",
    "    cleaned_tokens = []\n",
    "    for token, tag in pos_tag(tokens):\n",
    "        if tag.startswith(\"NN\"):\n",
    "            pos = 'n'\n",
    "        \n",
    "        elif tag.startswith('VB'):\n",
    "            pos = 'v'\n",
    "        else:\n",
    "            pos = 'a'\n",
    "        token = lemmatizer.lemmatize(token,pos)\n",
    "        if len(token) > 0 and token not in string.punctuation and token.lower() not in stopwords.words('english'):\n",
    "            cleaned_tokens.append(token.lower())\n",
    "    return cleaned_tokens\n",
    "\n",
    "reduced_data.loc[:,'text'] = reduced_data.loc[:,'text'].apply(lambda x: lemmatize_and_lower(x))"
   ]
  },
  {
   "cell_type": "code",
   "execution_count": null,
   "id": "23ee64aa",
   "metadata": {},
   "outputs": [],
   "source": [
    "print(reduced_data['text'][0])"
   ]
  },
  {
   "cell_type": "code",
   "execution_count": null,
   "id": "2eb314e9",
   "metadata": {},
   "outputs": [],
   "source": [
    "reduced_data.to_csv('tokenized.csv', index=False)"
   ]
  },
  {
   "cell_type": "code",
   "execution_count": null,
   "id": "15eaa780",
   "metadata": {},
   "outputs": [],
   "source": [
    "print(reduced_data['text'])"
   ]
  },
  {
   "cell_type": "markdown",
   "id": "dd3cc63d",
   "metadata": {},
   "source": [
    "## Feature Engineering"
   ]
  },
  {
   "cell_type": "code",
   "execution_count": null,
   "id": "bc49fc1e",
   "metadata": {},
   "outputs": [],
   "source": [
    "from nltk.stem.wordnet import WordNetLemmatizer\n",
    "from nltk.corpus import stopwords\n",
    "from nltk import pos_tag\n",
    "import ast\n",
    "import nltk\n",
    "# nltk.download('averaged_perceptron_tagger') \n",
    "# nltk.download('wordnet')\n",
    "# nltk.download('stopwords')"
   ]
  },
  {
   "cell_type": "markdown",
   "id": "fc94d0ef",
   "metadata": {},
   "source": [
    "### Tf-Idf Vectorization"
   ]
  },
  {
   "cell_type": "code",
   "execution_count": null,
   "id": "f6449808",
   "metadata": {},
   "outputs": [],
   "source": [
    "tokenized = pd.read_csv('tokenized.csv')"
   ]
  },
  {
   "cell_type": "code",
   "execution_count": null,
   "id": "b696eef9",
   "metadata": {},
   "outputs": [],
   "source": [
    "tokenized"
   ]
  },
  {
   "cell_type": "code",
   "execution_count": null,
   "id": "69a10d31",
   "metadata": {},
   "outputs": [],
   "source": [
    "from collections import Counter\n",
    "\n",
    "# Flatten the list of lists into a single list of tokens\n",
    "all_tokens = []\n",
    "\n",
    "for token_string in tokenized['text']:\n",
    "    tokens = ast.literal_eval(token_string)\n",
    "    for token in tokens:\n",
    "        all_tokens.append(token)\n",
    "\n",
    "all_tokens"
   ]
  },
  {
   "cell_type": "code",
   "execution_count": null,
   "id": "0e0caaf9",
   "metadata": {},
   "outputs": [],
   "source": [
    "# Calculate the frequencies of each token\n",
    "token_frequencies = Counter(all_tokens)\n",
    "\n",
    "# Create a DataFrame from the token frequencies\n",
    "word_freq_df = pd.DataFrame(token_frequencies.items(), columns=['Word', 'Frequency']).sort_values(by='Frequency', ascending=False).reset_index(drop=True)\n",
    "\n",
    "word_freq_df"
   ]
  },
  {
   "cell_type": "code",
   "execution_count": null,
   "id": "5f230df6",
   "metadata": {},
   "outputs": [],
   "source": [
    "import matplotlib.pyplot as plt\n",
    "\n",
    "# Visualize the top 20 most common words\n",
    "top_n = 20\n",
    "plt.figure(figsize=(10, 8))\n",
    "plt.bar(word_freq_df['Word'][:top_n], word_freq_df['Frequency'][:top_n], color='skyblue')\n",
    "plt.xlabel('Words')\n",
    "plt.ylabel('Frequency')\n",
    "plt.xticks(rotation=45, ha='right')\n",
    "plt.title(f'Top {top_n} Most Common Words')\n",
    "plt.show()\n"
   ]
  },
  {
   "cell_type": "code",
   "execution_count": null,
   "id": "47dec0a0",
   "metadata": {},
   "outputs": [],
   "source": [
    "import matplotlib.pyplot as plt\n",
    "\n",
    "# Assuming word_freq_df is your DataFrame with the word frequencies\n",
    "\n",
    "# Histogram of word frequencies\n",
    "plt.figure(figsize=(10, 6))\n",
    "plt.hist(word_freq_df['Frequency'], bins=50, color='skyblue', edgecolor='black')\n",
    "plt.title('Word Frequency Distribution')\n",
    "plt.xlabel('Word Frequency')\n",
    "plt.ylabel('Number of Words')\n",
    "plt.yscale('log')  # Use log scale for better visibility of lower frequencies\n",
    "plt.show()\n",
    "\n",
    "# Log-log plot\n",
    "plt.figure(figsize=(10, 6))\n",
    "plt.loglog(range(1, len(word_freq_df) + 1), word_freq_df['Frequency'].sort_values(ascending=False), marker='o', linestyle='-', color='skyblue')\n",
    "plt.title('Word Frequency Distribution (Log-Log Scale)')\n",
    "plt.xlabel('Rank of word (log scale)')\n",
    "plt.ylabel('Frequency of word (log scale)')\n",
    "plt.show()\n"
   ]
  },
  {
   "cell_type": "code",
   "execution_count": null,
   "id": "140e065e",
   "metadata": {},
   "outputs": [],
   "source": [
    "from sklearn.feature_extraction.text import TfidfVectorizer"
   ]
  },
  {
   "cell_type": "code",
   "execution_count": null,
   "id": "e05c04a9",
   "metadata": {},
   "outputs": [],
   "source": [
    "data['text'] = data['text'].apply(lambda x: ' '.join(x))\n",
    "data"
   ]
  },
  {
   "cell_type": "code",
   "execution_count": null,
   "id": "4a269d01",
   "metadata": {},
   "outputs": [],
   "source": [
    "from sklearn.feature_extraction.text import TfidfVectorizer\n",
    "\n",
    "vectorizer = TfidfVectorizer(max_features=1000,\n",
    "                             max_df=0.01, \n",
    "                             min_df=20, \n",
    "                             ngram_range=(1,2))\n",
    "\n",
    "tfidf_matrix = vectorizer.fit_transform(data['text'])"
   ]
  },
  {
   "cell_type": "code",
   "execution_count": null,
   "id": "584f2129",
   "metadata": {},
   "outputs": [],
   "source": [
    "feature_names = vectorizer.get_feature_names_out()\n",
    "tfidf_pd = pd.DataFrame(tfidf_matrix.toarray(), columns=feature_names)"
   ]
  },
  {
   "cell_type": "code",
   "execution_count": null,
   "id": "98d56239",
   "metadata": {},
   "outputs": [],
   "source": [
    "tfidf_pd"
   ]
  },
  {
   "cell_type": "code",
   "execution_count": null,
   "id": "9ca8b127",
   "metadata": {},
   "outputs": [],
   "source": [
    "tfidf_pd.to_csv('tfidf_pd.csv')"
   ]
  },
  {
   "cell_type": "markdown",
   "id": "09d6aa94",
   "metadata": {},
   "source": [
    "### SVDTransformer for dimentionality reduction"
   ]
  },
  {
   "cell_type": "code",
   "execution_count": null,
   "id": "ef6db768",
   "metadata": {},
   "outputs": [],
   "source": [
    "tfidf_pd = pd.read_csv('tfidf_pd.csv')"
   ]
  },
  {
   "cell_type": "code",
   "execution_count": null,
   "id": "15659a32",
   "metadata": {},
   "outputs": [],
   "source": [
    "from sklearn import decomposition\n",
    "\n",
    "svd = decomposition.TruncatedSVD(n_components=200)\n",
    "svd_df = svd.fit_transform(tfidf_pd)"
   ]
  },
  {
   "cell_type": "code",
   "execution_count": null,
   "id": "013fcd25",
   "metadata": {},
   "outputs": [],
   "source": [
    "svd_df_pd = pd.DataFrame(svd_df, columns=[f'PC{i+1}' for i in range(svd_df.shape[1])])\n",
    "svd_df_pd"
   ]
  },
  {
   "cell_type": "code",
   "execution_count": null,
   "id": "faa29d06",
   "metadata": {},
   "outputs": [],
   "source": [
    "svd_df_pd.columns"
   ]
  },
  {
   "cell_type": "code",
   "execution_count": null,
   "id": "2ac0c9e4",
   "metadata": {},
   "outputs": [],
   "source": [
    "svd_df_pd.to_csv('svd_df.csv')"
   ]
  }
 ],
 "metadata": {
  "kernelspec": {
   "display_name": "Python 3 (ipykernel)",
   "language": "python",
   "name": "python3"
  },
  "language_info": {
   "codemirror_mode": {
    "name": "ipython",
    "version": 3
   },
   "file_extension": ".py",
   "mimetype": "text/x-python",
   "name": "python",
   "nbconvert_exporter": "python",
   "pygments_lexer": "ipython3",
   "version": "3.11.5"
  }
 },
 "nbformat": 4,
 "nbformat_minor": 5
}
